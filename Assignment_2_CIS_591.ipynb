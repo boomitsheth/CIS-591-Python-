{
  "nbformat": 4,
  "nbformat_minor": 0,
  "metadata": {
    "colab": {
      "provenance": [],
      "authorship_tag": "ABX9TyMgsoRaA9bBgezL80j/27Jm",
      "include_colab_link": true
    },
    "kernelspec": {
      "name": "python3",
      "display_name": "Python 3"
    },
    "language_info": {
      "name": "python"
    }
  },
  "cells": [
    {
      "cell_type": "markdown",
      "metadata": {
        "id": "view-in-github",
        "colab_type": "text"
      },
      "source": [
        "<a href=\"https://colab.research.google.com/github/boomitsheth/CIS-591-SCM-516-Assignments/blob/main/Assignment_2_CIS_591.ipynb\" target=\"_parent\"><img src=\"https://colab.research.google.com/assets/colab-badge.svg\" alt=\"Open In Colab\"/></a>"
      ]
    },
    {
      "cell_type": "code",
      "execution_count": 2,
      "metadata": {
        "id": "IB_33qX8waNF"
      },
      "outputs": [],
      "source": [
        "# Sample e-commerce data (product prices)\n",
        "product_prices = {\n",
        "    'apple': 0.5,\n",
        "    'banana': 0.3,\n",
        "    'orange': 0.6,\n",
        "    'grape': 0.8,\n",
        "    'watermelon': 2.5\n",
        "}"
      ]
    },
    {
      "cell_type": "code",
      "source": [
        "product_prices"
      ],
      "metadata": {
        "colab": {
          "base_uri": "https://localhost:8080/"
        },
        "id": "fgHb6WIlwlJl",
        "outputId": "1504359e-3a31-45f0-cf51-39d72a2908f7"
      },
      "execution_count": 3,
      "outputs": [
        {
          "output_type": "execute_result",
          "data": {
            "text/plain": [
              "{'apple': 0.5, 'banana': 0.3, 'orange': 0.6, 'grape': 0.8, 'watermelon': 2.5}"
            ]
          },
          "metadata": {},
          "execution_count": 3
        }
      ]
    },
    {
      "cell_type": "code",
      "source": [
        "# List of products\n",
        "products = list(product_prices.keys())\n",
        "\n",
        "# Loop through the products and print their prices\n",
        "print(\"Product Prices:\")\n",
        "for product in products:\n",
        "    print(f\"{product.capitalize()}: ${product_prices[product]:.2f}\")"
      ],
      "metadata": {
        "colab": {
          "base_uri": "https://localhost:8080/"
        },
        "id": "Z0QPPRbawpD_",
        "outputId": "863360cc-096b-4c72-ab06-d7254f713474"
      },
      "execution_count": 4,
      "outputs": [
        {
          "output_type": "stream",
          "name": "stdout",
          "text": [
            "Product Prices:\n",
            "Apple: $0.50\n",
            "Banana: $0.30\n",
            "Orange: $0.60\n",
            "Grape: $0.80\n",
            "Watermelon: $2.50\n"
          ]
        }
      ]
    },
    {
      "cell_type": "code",
      "source": [
        "# Slicing: Get the first three products\n",
        "print(\"\\nFirst Three Products:\")\n",
        "first_three = products[:3]\n",
        "print(first_three)"
      ],
      "metadata": {
        "colab": {
          "base_uri": "https://localhost:8080/"
        },
        "id": "Dn04_XTcw5nC",
        "outputId": "f49e7dad-7b4f-40d8-a098-8f6fe1a905e0"
      },
      "execution_count": 5,
      "outputs": [
        {
          "output_type": "stream",
          "name": "stdout",
          "text": [
            "\n",
            "First Three Products:\n",
            "['apple', 'banana', 'orange']\n"
          ]
        }
      ]
    },
    {
      "cell_type": "code",
      "source": [
        "# Conditional statement: Check if a product is affordable (price < 1)\n",
        "affordable_product = 'apple'\n",
        "if product_prices[affordable_product] < 1:\n",
        "    print(f\"{affordable_product.capitalize()} is affordable.\")\n",
        "else:\n",
        "    print(f\"{affordable_product.capitalize()} is not affordable.\")\n"
      ],
      "metadata": {
        "colab": {
          "base_uri": "https://localhost:8080/"
        },
        "id": "kcdRHIUVxJGG",
        "outputId": "1e3892de-e049-454a-a05d-3cb3ca75358f"
      },
      "execution_count": 6,
      "outputs": [
        {
          "output_type": "stream",
          "name": "stdout",
          "text": [
            "Apple is affordable.\n"
          ]
        }
      ]
    },
    {
      "cell_type": "code",
      "source": [
        "# Calculate average price\n",
        "average_price = sum(product_prices.values()) / len(product_prices)\n",
        "print(\"\\nAverage Price:\", average_price)\n",
        "\n",
        "# Find the most expensive and cheapest products\n",
        "most_expensive_product = max(product_prices, key=product_prices.get)\n",
        "cheapest_product = min(product_prices, key=product_prices.get)\n",
        "\n",
        "print(\"Most Expensive Product:\", most_expensive_product.capitalize())\n",
        "print(\"Cheapest Product:\", cheapest_product.capitalize())"
      ],
      "metadata": {
        "colab": {
          "base_uri": "https://localhost:8080/"
        },
        "id": "apsEecnUxM8n",
        "outputId": "90640307-018c-4eb6-babc-bc7395fb3441"
      },
      "execution_count": 7,
      "outputs": [
        {
          "output_type": "stream",
          "name": "stdout",
          "text": [
            "\n",
            "Average Price: 0.9400000000000001\n",
            "Most Expensive Product: Watermelon\n",
            "Cheapest Product: Banana\n"
          ]
        }
      ]
    }
  ]
}