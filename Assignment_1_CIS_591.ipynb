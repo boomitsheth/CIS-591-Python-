{
  "nbformat": 4,
  "nbformat_minor": 0,
  "metadata": {
    "colab": {
      "provenance": [],
      "authorship_tag": "ABX9TyM1ZCzII2+W9ju7zEmhQYJG",
      "include_colab_link": true
    },
    "kernelspec": {
      "name": "python3",
      "display_name": "Python 3"
    },
    "language_info": {
      "name": "python"
    }
  },
  "cells": [
    {
      "cell_type": "markdown",
      "metadata": {
        "id": "view-in-github",
        "colab_type": "text"
      },
      "source": [
        "<a href=\"https://colab.research.google.com/github/boomitsheth/CIS-591-Python-/blob/main/Assignment_1_CIS_591.ipynb\" target=\"_parent\"><img src=\"https://colab.research.google.com/assets/colab-badge.svg\" alt=\"Open In Colab\"/></a>"
      ]
    },
    {
      "cell_type": "markdown",
      "source": [
        "The code is to calculate the oil volume of four different fields namely A, B, C, D."
      ],
      "metadata": {
        "id": "njrT2Ex6vmlS"
      }
    },
    {
      "cell_type": "code",
      "execution_count": 10,
      "metadata": {
        "colab": {
          "base_uri": "https://localhost:8080/"
        },
        "id": "X_qllDq859VE",
        "outputId": "44befe5f-58d7-47cd-ee48-825cf5b6017f"
      },
      "outputs": [
        {
          "output_type": "stream",
          "name": "stdout",
          "text": [
            "Oil volume for Field A: 128700.00 cubic units\n"
          ]
        }
      ],
      "source": [
        "# List of field names\n",
        "field_names = ['Field A', 'Field B', 'Field C', 'Field D']\n",
        "\n",
        "# List of area of these fields\n",
        "area = [15000, 18000, 22000, 16000]\n",
        "\n",
        "# List of thickness of these fields\n",
        "thickness = [60, 70, 55, 65]\n",
        "\n",
        "# List of porosity of these fields\n",
        "porosity = [0.22, 0.18, 0.25, 0.15]\n",
        "\n",
        "# List of oil saturation for these fields\n",
        "oil_saturation = [0.65, 0.72, 0.75, 0.86]\n",
        "\n",
        "# Calculating oil volume for Field A\n",
        "oil_volume_field_A = area[0] * thickness[0] * porosity[0] * oil_saturation[0]\n",
        "\n",
        "print(f\"Oil volume for {field_names[0]}: {oil_volume_field_A:.2f} cubic units\")\n",
        "\n",
        "\n"
      ]
    },
    {
      "cell_type": "code",
      "source": [
        "# Let's make a dictionary of the data mentioned above in the list for all four fields\n",
        "oil_volume = {\n",
        "    'Field A': area[0] * thickness[0] * porosity[0] * oil_saturation[0],\n",
        "    'Field B': area[1] * thickness[1] * porosity[1] * oil_saturation[1],\n",
        "    'Field C': area[2] * thickness[2] * porosity[2] * oil_saturation[2],\n",
        "    'Field D': area[3] * thickness[3] * porosity[3] * oil_saturation[3]\n",
        "}\n",
        "\n",
        "print(oil_volume)\n"
      ],
      "metadata": {
        "colab": {
          "base_uri": "https://localhost:8080/"
        },
        "id": "ZaMKq32WsQ5f",
        "outputId": "39a9c982-5ad8-4c79-ae2a-8e93c4c8e441"
      },
      "execution_count": 16,
      "outputs": [
        {
          "output_type": "stream",
          "name": "stdout",
          "text": [
            "{'Field A': 128700.0, 'Field B': 163296.0, 'Field C': 226875.0, 'Field D': 134160.0}\n"
          ]
        }
      ]
    },
    {
      "cell_type": "code",
      "source": [
        "# Let's do some simple slicing\n",
        "# Let's grab the porosity of the Field C and Field D\n",
        "\n",
        "print(porosity[2:])"
      ],
      "metadata": {
        "colab": {
          "base_uri": "https://localhost:8080/"
        },
        "id": "LSDeqommvcxa",
        "outputId": "d07bce5f-1a0d-4372-be59-759ebe96f641"
      },
      "execution_count": 17,
      "outputs": [
        {
          "output_type": "stream",
          "name": "stdout",
          "text": [
            "[0.25, 0.15]\n"
          ]
        }
      ]
    },
    {
      "cell_type": "code",
      "source": [
        "!pip install -q streamlit"
      ],
      "metadata": {
        "colab": {
          "base_uri": "https://localhost:8080/"
        },
        "id": "jn55DNegylQZ",
        "outputId": "6092f5bc-2880-46cc-fdee-cae2f8aa6507"
      },
      "execution_count": 18,
      "outputs": [
        {
          "output_type": "stream",
          "name": "stdout",
          "text": [
            "\u001b[2K     \u001b[90m━━━━━━━━━━━━━━━━━━━━━━━━━━━━━━━━━━━━━━━━\u001b[0m \u001b[32m8.1/8.1 MB\u001b[0m \u001b[31m15.2 MB/s\u001b[0m eta \u001b[36m0:00:00\u001b[0m\n",
            "\u001b[2K     \u001b[90m━━━━━━━━━━━━━━━━━━━━━━━━━━━━━━━━━━━━━━\u001b[0m \u001b[32m164.8/164.8 kB\u001b[0m \u001b[31m16.9 MB/s\u001b[0m eta \u001b[36m0:00:00\u001b[0m\n",
            "\u001b[2K     \u001b[90m━━━━━━━━━━━━━━━━━━━━━━━━━━━━━━━━━━━━━━\u001b[0m \u001b[32m188.5/188.5 kB\u001b[0m \u001b[31m17.7 MB/s\u001b[0m eta \u001b[36m0:00:00\u001b[0m\n",
            "\u001b[2K     \u001b[90m━━━━━━━━━━━━━━━━━━━━━━━━━━━━━━━━━━━━━━━━\u001b[0m \u001b[32m4.7/4.7 MB\u001b[0m \u001b[31m36.3 MB/s\u001b[0m eta \u001b[36m0:00:00\u001b[0m\n",
            "\u001b[2K     \u001b[90m━━━━━━━━━━━━━━━━━━━━━━━━━━━━━━━━━━━━━━━━\u001b[0m \u001b[32m82.1/82.1 kB\u001b[0m \u001b[31m8.3 MB/s\u001b[0m eta \u001b[36m0:00:00\u001b[0m\n",
            "\u001b[2K     \u001b[90m━━━━━━━━━━━━━━━━━━━━━━━━━━━━━━━━━━━━━━━━\u001b[0m \u001b[32m62.7/62.7 kB\u001b[0m \u001b[31m6.3 MB/s\u001b[0m eta \u001b[36m0:00:00\u001b[0m\n",
            "\u001b[2K     \u001b[90m━━━━━━━━━━━━━━━━━━━━━━━━━━━━━━━━━━━━━━\u001b[0m \u001b[32m341.8/341.8 kB\u001b[0m \u001b[31m29.3 MB/s\u001b[0m eta \u001b[36m0:00:00\u001b[0m\n",
            "\u001b[?25h"
          ]
        }
      ]
    },
    {
      "cell_type": "code",
      "source": [
        "%%writefile app.py\n",
        "\n",
        "import streamlit as st\n",
        "\n",
        "# Define the data\n",
        "fields = ['Field A', 'Field B', 'Field C', 'Field D']\n",
        "area = [100, 150, 200, 120]  # Area for each field\n",
        "thickness = [50, 60, 70, 80]  # Thickness for each field\n",
        "porosity = [0.25, 0.20, 0.15, 0.30]  # Porosity for each field\n",
        "oil_saturation = [0.75, 0.80, 0.65, 0.70]  # Oil saturation for each field\n",
        "\n",
        "# Streamlit app\n",
        "st.title('Oil Volume Calculator')\n",
        "\n",
        "st.write(\"Welcome to the Oil Volume Calculator. Enter the parameters for each field to calculate oil volume.\")\n",
        "\n",
        "# Initialize an empty dictionary to store calculated oil volumes\n",
        "calculated_oil_volumes = {}\n",
        "\n",
        "# Input fields for user to enter parameters and calculate oil volumes\n",
        "for field in fields:\n",
        "    st.subheader(field)\n",
        "    unique_key = f\"{field}_input\"\n",
        "    area_input = st.number_input('Area:', value=area[fields.index(field)], key=unique_key)\n",
        "    thickness_input = st.number_input('Thickness:', value=thickness[fields.index(field)], key=f\"{unique_key}_thickness\")\n",
        "    porosity_input = st.number_input('Porosity:', value=porosity[fields.index(field)], key=f\"{unique_key}_porosity\")\n",
        "    oil_saturation_input = st.number_input('Oil Saturation:', value=oil_saturation[fields.index(field)], key=f\"{unique_key}_oil_saturation\")\n",
        "\n",
        "    calculated_volume = area_input * thickness_input * porosity_input * oil_saturation_input\n",
        "    calculated_oil_volumes[field] = calculated_volume\n",
        "    st.write(f\"Calculated Oil Volume: {calculated_volume:.2f} cubic units\")\n",
        "\n",
        "# Display the calculated oil volumes for all fields\n",
        "st.subheader('Calculated Oil Volumes')\n",
        "for field, volume in calculated_oil_volumes.items():\n",
        "    st.write(f\"{field}: {volume:.2f} cubic units\")\n",
        "\n",
        "# Calculate and display the total oil volume for all fields\n",
        "total_oil_volume = sum(calculated_oil_volumes.values())\n",
        "st.subheader('Total Oil Volume')\n",
        "st.write(f\"The total oil volume for all fields is: {total_oil_volume:.2f} cubic units\")\n"
      ],
      "metadata": {
        "colab": {
          "base_uri": "https://localhost:8080/"
        },
        "id": "J2qEGORFwrSw",
        "outputId": "2c24f395-f292-45d0-a093-20e53a791042"
      },
      "execution_count": 23,
      "outputs": [
        {
          "output_type": "stream",
          "name": "stdout",
          "text": [
            "Overwriting app.py\n"
          ]
        }
      ]
    },
    {
      "cell_type": "code",
      "source": [
        "!streamlit run app.py &>/content/logs.txt & npx localtunnel --port 8501 & wget -q -O - ipv4.icanhazip.com"
      ],
      "metadata": {
        "colab": {
          "base_uri": "https://localhost:8080/"
        },
        "id": "CdH6q-jmyvzU",
        "outputId": "8ecd8722-b4ba-4ea0-fd00-e0a4f070acf5"
      },
      "execution_count": 24,
      "outputs": [
        {
          "metadata": {
            "tags": null
          },
          "name": "stdout",
          "output_type": "stream",
          "text": [
            "35.227.110.79\n",
            "\u001b[K\u001b[?25hnpx: installed 22 in 2.797s\n",
            "your url is: https://smooth-bags-unite.loca.lt\n"
          ]
        }
      ]
    }
  ]
}